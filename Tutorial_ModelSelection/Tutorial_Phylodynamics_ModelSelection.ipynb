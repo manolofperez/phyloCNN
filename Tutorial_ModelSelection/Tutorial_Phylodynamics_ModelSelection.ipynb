{
 "cells": [
  {
   "cell_type": "markdown",
   "metadata": {},
   "source": [
    "# Tutorial for phylodynamics model selection\n",
    "Based on the method developed in Perez M.F. and Gascuel O.PhyloCNN: Improving tree representation and neural network architecture for deep learning from trees in phylodynamics and diversification studies. https://www.biorxiv.org/content/10.1101/2024.12.13.628187v1\n",
    "\n",
    "## 1. Introduction & Requirements\n",
    "This tutorial shows how to train a CNN model that classify phylogentic trees of viruses according to three competing epidemiological (phylodynamics) models - Birth-Death (BD), Birth-Death Exposed Infectious (BDEI) and Birth-Death with Superspreaders (BDSS). \n",
    "\n",
    "<img src=\"img/Figure_BDModels.png\" width=\"500\" height=\"340\"> \n",
    "\n",
    "The simulated trees were encoded by describing the neighborhood (e.g., length of outgoing branches) and main measurements (e.g., date, number of descendants) of all nodes and leaves of the phylogeny.\n",
    "\n",
    "<img src=\"img/Figure 1 PhyloCNN Encoding.png\" width=\"750\" height=\"500\"> \n",
    "\n",
    "## 2. Libraries and Data Loading\n",
    "We first load the required python libraries and then we load phylogenetic trees simulated under each of the 3 models (BD, BDEI, BDSS) and their respective parameter values (sampled from prior distributions). We reshape each encoded tree to `(samples, 1000, 18)` because there are up to 1000 nodes per tree, each with 18 features.\n"
   ]
  },
  {
   "cell_type": "code",
   "execution_count": null,
   "metadata": {
    "vscode": {
     "languageId": "plaintext"
    }
   },
   "outputs": [],
   "source": [
    "import pandas as pd\n",
    "import tensorflow as tf\n",
    "import keras\n",
    "import numpy as np\n",
    "\n",
    "from keras.models import Sequential, Model\n",
    "from keras.layers import Activation, Dense\n",
    "from keras.layers import Conv2D, GlobalAveragePooling2D, BatchNormalization\n",
    "from keras.layers import Dense, Dropout, Activation, Flatten\n",
    "\n",
    "from sklearn.model_selection import train_test_split\n",
    "from sklearn.metrics import confusion_matrix\n",
    "\n",
    "# 1) Load parameters\n",
    "param_train_BD = pd.read_csv('./parameters_BD.txt', sep='\\t')\n",
    "param_test_BD  = pd.read_csv('./testset/parameters_BD.txt', sep='\\t')\n",
    "param_train_BDEI = pd.read_csv('./parameters_BDEI.txt', sep='\\t')\n",
    "param_test_BDEI  = pd.read_csv('./testset/parameters_BDEI.txt', sep='\\t')\n",
    "param_train_BDSS = pd.read_csv('./parameters_BDSS.txt', sep='\\t')\n",
    "param_test_BDSS  = pd.read_csv('./testset/parameters_BDSS.txt', sep='\\t')\n",
    "\n",
    "# 2) Load tree encodings for BD, BDEI, BDSS models\n",
    "encoding_BD    = pd.read_csv('./Encoded_trees_BD.csv', sep=\"\\t\", header=0, index_col=0).values.reshape(-1,1000,18)\n",
    "encoding_test_BD = pd.read_csv('./testset/Encoded_trees_BD.csv', sep=\"\\t\", header=0, index_col=0).values.reshape(-1,1000,18)\n",
    "encoding_BDEI  = pd.read_csv('./Encoded_trees_BDEI.csv', sep=\"\\t\", header=0, index_col=0).values.reshape(-1,1000,18)\n",
    "encoding_test_BDEI = pd.read_csv('./testset/Encoded_trees_BDEI.csv', sep=\"\\t\", header=0, index_col=0).values.reshape(-1,1000,18)\n",
    "encoding_BDSS  = pd.read_csv('./Encoded_trees_BDSS.csv', sep=\"\\t\", header=0, index_col=0).values.reshape(-1,1000,18)\n",
    "encoding_test_BDSS = pd.read_csv('./testset/Encoded_trees_BDSS.csv', sep=\"\\t\", header=0, index_col=0).values.reshape(-1,1000,18)"
   ]
  },
  {
   "cell_type": "markdown",
   "metadata": {},
   "source": [
    "## 3. Data Preprocessing\n",
    "We will process the input to be properly formatted before feeding it to the neural network. This will involve the following steps:\n",
    "\n",
    "### Removing Unused Columns\n",
    "The last line in each array is the “rescaling factor”, that needs to be removed from the encoding (it's used only to predict parameters, which will not be covered in this tutorial):\n",
    "\n",
    "### Label Assignment\n",
    "We create a label array **Y** for the training and test set, with:\n",
    "- `0` for BD\n",
    "- `1` for BDEI\n",
    "- `2` for BDSS\n",
    "\n",
    "### Adding Sampling Probability\n",
    "We add an extra feature column representing `sampling_proba`."
   ]
  },
  {
   "cell_type": "code",
   "execution_count": null,
   "metadata": {
    "vscode": {
     "languageId": "plaintext"
    }
   },
   "outputs": [],
   "source": [
    "# remove unused columns: rescaling factor\n",
    "encoding_BD=np.delete(encoding_BD, -1, axis=1)\n",
    "encoding_test_BD=np.delete(encoding_test_BD, -1, axis=1)\n",
    "encoding_BDEI=np.delete(encoding_BDEI, -1, axis=1)\n",
    "encoding_test_BDEI=np.delete(encoding_test_BDEI, -1, axis=1)\n",
    "encoding_BDSS=np.delete(encoding_BDSS, -1, axis=1)\n",
    "encoding_test_BDSS=np.delete(encoding_test_BDSS, -1, axis=1)\n",
    "\n",
    "#Add labels for each simulation (a different label for each model)\n",
    "Y = [0 for i in range(len(encoding_BD))]\n",
    "Y.extend([1 for i in range(len(encoding_BDEI))])\n",
    "Y.extend([2 for i in range(len(encoding_BDSS))])\n",
    "Y = np.array(Y)\n",
    "\n",
    "Y_test = [0 for i in range(len(encoding_test_BD))]\n",
    "Y_test.extend([1 for i in range(len(encoding_test_BDEI))])\n",
    "Y_test.extend([2 for i in range(len(encoding_test_BDSS))])\n",
    "Y_test = np.array(Y_test)\n",
    "\n",
    "#Now insert an additional column with sampling proba for all nodes\n",
    "\n",
    "samp_proba_list = np.array(param_train_BD['sampling_proba'])\n",
    "encoding_BD=np.concatenate((encoding_BD,np.repeat(samp_proba_list,999).reshape(-1,999,1)),axis=2)\n",
    "\n",
    "samp_proba_list_test = np.array(param_test_BD['sampling_proba'])\n",
    "encoding_test_BD=np.concatenate((encoding_test_BD,np.repeat(samp_proba_list_test,999).reshape(-1,999,1)),axis=2)\n",
    "\n",
    "samp_proba_list = np.array(param_train_BDEI['sampling_proba'])\n",
    "encoding_BDEI=np.concatenate((encoding_BDEI,np.repeat(samp_proba_list,999).reshape(-1,999,1)),axis=2)\n",
    "\n",
    "samp_proba_list_test = np.array(param_test_BDEI['sampling_proba'])\n",
    "encoding_test_BDEI=np.concatenate((encoding_test_BDEI,np.repeat(samp_proba_list_test,999).reshape(-1,999,1)),axis=2)\n",
    "\n",
    "samp_proba_list = np.array(param_train_BDSS['sampling_proba'])\n",
    "encoding_BDSS=np.concatenate((encoding_BDSS,np.repeat(samp_proba_list,999).reshape(-1,999,1)),axis=2)\n",
    "\n",
    "samp_proba_list_test = np.array(param_test_BDSS['sampling_proba'])\n",
    "encoding_test_BDSS=np.concatenate((encoding_test_BDSS,np.repeat(samp_proba_list_test,999).reshape(-1,999,1)),axis=2)"
   ]
  },
  {
   "cell_type": "markdown",
   "metadata": {},
   "source": [
    "### Padding & Ordering Leaves/Nodes\n",
    "**Goal**: Ensure each encoded tree has exactly 500 leaves and 500 internal nodes. We:\n",
    "\n",
    "1. **Identify leaves** (column 3 == 1) and **sort them** by their ages (column 1).  \n",
    "2. **Identify internal nodes** (column 3 > 1) and also **sort** them by age.  \n",
    "3. **Pad** each set (leaves, nodes) to size 500 (with zeros if fewer than 500).  \n",
    "4. **Stack** leaves and nodes into 2-channel data: `(500, feature_dim, 2)`."
   ]
  },
  {
   "cell_type": "code",
   "execution_count": null,
   "metadata": {
    "vscode": {
     "languageId": "plaintext"
    }
   },
   "outputs": [],
   "source": [
    "# This function takes in the tree encodings for both training and testing datasets\n",
    "# and processes them to have a uniform shape. It also pads the leaves and nodes \n",
    "# of the trees to ensure each tree has a fixed number of 500 leaves and nodes.\n",
    "\n",
    "def encode_pad_0s_rootage(enc, enc_test):\n",
    "    # Create an empty list to hold padded training encodings\n",
    "    enc_pad = []\n",
    "    \n",
    "    # Iterate over each tree in the training dataset\n",
    "    for i in range(enc.shape[0]):\n",
    "        # Separate the leaves (where column 3 has value 1, which indicates leaves)\n",
    "        leaves = enc[i][enc[i,:,3] == 1]\n",
    "        # Sort leaves by their age (assumed to be in column 1)\n",
    "        leaves = leaves[np.argsort(leaves[:, 1])]\n",
    "        # Pad the leaves array with 0s until it has a maximum size of 500 leaves\n",
    "        leaves = np.pad(leaves, [(0, (500 - leaves.shape[0])), (0, 0)], mode='constant')\n",
    "\n",
    "        # Separate the nodes (where column 3 is greater than 1, indicating internal nodes)\n",
    "        nodes = enc[i][enc[i,:,3] > 1]\n",
    "        # Sort nodes by their age (assumed to be in column 1)\n",
    "        nodes = nodes[np.argsort(nodes[:, 1])]\n",
    "        # Copy the last node's value to balance the number of leaves and nodes\n",
    "        nodes = np.append(nodes, nodes[-1].reshape(1, -1), axis=0)\n",
    "        # Pad the nodes array with 0s to ensure a size of 500 nodes\n",
    "        nodes = np.pad(nodes, [(0, (500 - nodes.shape[0])), (0, 0)], mode='constant')\n",
    "        \n",
    "        # Stack the leaves and nodes arrays together along axis 2 (creating 2 channels)\n",
    "        enc_pad.append(np.stack((leaves, nodes), axis=2))\n",
    "    \n",
    "    # Now process the test dataset (same procedure as above)\n",
    "    enc_pad_test = []\n",
    "    for i in range(enc_test.shape[0]):\n",
    "        # Extract and sort leaves\n",
    "        leaves = enc_test[i][enc_test[i,:,3] == 1]\n",
    "        leaves = leaves[np.argsort(leaves[:, 1])]\n",
    "        # Pad leaves to ensure size of 500\n",
    "        leaves = np.pad(leaves, [(0, (500 - leaves.shape[0])), (0, 0)], mode='constant')\n",
    "\n",
    "        # Extract and sort nodes\n",
    "        nodes = enc_test[i][enc_test[i,:,3] > 1]\n",
    "        nodes = nodes[np.argsort(nodes[:, 1])]\n",
    "        # Copy the last node's value to balance the number of leaves and nodes\n",
    "        nodes = np.append(nodes, nodes[-1].reshape(1, -1), axis=0)\n",
    "        # Pad nodes to ensure size of 500\n",
    "        nodes = np.pad(nodes, [(0, (500 - nodes.shape[0])), (0, 0)], mode='constant')\n",
    "        \n",
    "        # Stack the leaves and nodes arrays together along axis 2 (creating 2 channels)\n",
    "        enc_pad_test.append(np.stack((leaves, nodes), axis=2))\n",
    "    \n",
    "    # Convert lists to numpy arrays and return the padded training and test data\n",
    "    return np.array(enc_pad), np.array(enc_pad_test)\n",
    "\n",
    "\n",
    "#Change encoding to order by root age and pad with 0s\n",
    "encoding_pad_BD, encoding_pad_test_BD = encode_pad_0s_rootage(encoding_BD, encoding_test_BD)\n",
    "encoding_pad_BDEI, encoding_pad_test_BDEI = encode_pad_0s_rootage(encoding_BDEI, encoding_test_BDEI)\n",
    "encoding_pad_BDSS, encoding_pad_test_BDSS = encode_pad_0s_rootage(encoding_BDSS, encoding_test_BDSS)\n",
    "\n",
    "#Combine encodings from the 3 models\n",
    "encoding_pad = np.concatenate((encoding_pad_BD,encoding_pad_BDEI,encoding_pad_BDSS),axis=0)\n",
    "encoding_pad_test = np.concatenate((encoding_pad_test_BD,encoding_pad_test_BDEI,encoding_pad_test_BDSS),axis=0)\n",
    "\n",
    "#Delete intermediate variables\n",
    "del(encoding_BD,encoding_BDEI,encoding_BDSS,encoding_pad_BD,encoding_pad_BDEI,encoding_pad_BDSS)\n",
    "del(encoding_pad_test_BD,encoding_pad_test_BDEI,encoding_pad_test_BDSS)\n",
    "\n",
    "\n",
    "#We **one-hot encode** `Y` (since it’s a 3-class classification) and split into training/validation:\n",
    "Y = np.eye(3)[Y]\n",
    "\n",
    "### Splitting Data into Training & Validation\n",
    "# 30% for validation\n",
    "Y, Y_valid, encoding_pad, encoding_pad_valid = train_test_split(\n",
    "    Y, encoding_pad, test_size=0.3, shuffle=True, stratify=Y\n",
    ")\n"
   ]
  },
  {
   "cell_type": "markdown",
   "metadata": {},
   "source": [
    "## 4. Building & Training the CNN (2-Generation Context)\n",
    "\n",
    "### Model Definition\n",
    "We define a CNN that processes input of shape `(500, 19, 2)`:\n",
    "- 500 = number of leaves or nodes (padded)\n",
    "- 19 = number of features (including the newly added sampling probability)\n",
    "- 2 = channels (leaves, nodes)\n",
    "\n",
    "This architecture was inspired by the fact that internal nodes and leaves contribute differently to the tree likelihood calculation for multi-type birth-death models (MTBD, which includes BD, BDEI and BDSS; see Equation 8 in [Zhukova et al., 2023](https://academic.oup.com/sysbio/article/72/6/1387/7273092))\n",
    "\n",
    "<img src=\"img/Figure_Architecture.png\" width=\"1000\" height=\"600\"> \n",
    "\n",
    "<img src=\"img/Zhukova2023_formula.png\" width=\"500\" height=\"340\"> "
   ]
  },
  {
   "cell_type": "code",
   "execution_count": null,
   "metadata": {
    "vscode": {
     "languageId": "plaintext"
    }
   },
   "outputs": [],
   "source": [
    "# Creation of the Network Model: model definition\n",
    "def build_model():\n",
    "    # Initialize the Sequential model\n",
    "    model = Sequential()\n",
    "    \n",
    "    # First convolutional layer: \n",
    "    # - Filters: 32 \n",
    "    # - Kernel size: (1, 19), sliding across the second dimension of the input \n",
    "    # - Input shape: (500, 19, 2) where 500 is the number of tree leaves/nodes, 19 is the feature size, and 2 is the number of channels (leaves and nodes)\n",
    "    # - Activation function: ELU (Exponential Linear Unit)\n",
    "    # - Groups: 2 to apply separate convolutions for the two channels (leaves and nodes)\n",
    "    model.add(Conv2D(filters=32, use_bias=False, kernel_size=(1, 19), input_shape=(500, 19, 2), activation='elu', groups=2))\n",
    "    \n",
    "    # Apply batch normalization to stabilize and speed up the training process\n",
    "    model.add(BatchNormalization())\n",
    "    \n",
    "    # Second convolutional layer: \n",
    "    # - Filters: 32\n",
    "    # - Kernel size: (1, 1) to process each feature independently\n",
    "    # - Activation function: ELU\n",
    "    model.add(Conv2D(filters=32, use_bias=False, kernel_size=(1, 1), activation='elu'))\n",
    "    \n",
    "    # Apply batch normalization again\n",
    "    model.add(BatchNormalization())\n",
    "    \n",
    "    # Third convolutional layer: \n",
    "    # - Filters: 32\n",
    "    # - Kernel size: (1, 1) for further feature processing\n",
    "    # - Activation function: ELU\n",
    "    model.add(Conv2D(filters=32, use_bias=False, kernel_size=(1, 1), activation='elu'))\n",
    "    \n",
    "    # Apply batch normalization for the final time before flattening\n",
    "    model.add(BatchNormalization())\n",
    "    \n",
    "    # Flatten the 2D feature maps from the convolutional layers into a 1D vector, \n",
    "    # which will be passed to the fully connected (dense) layers\n",
    "    model.add(GlobalAveragePooling2D())\n",
    "    \n",
    "    # Fully connected (FFNN) part:\n",
    "    # Dense layers with decreasing number of units, all using ELU activation:\n",
    "    model.add(Dense(64, activation='elu'))   # First dense layer with 64 units\n",
    "    model.add(Dense(32, activation='elu'))   # Second dense layer with 32 units\n",
    "    model.add(Dense(16, activation='elu'))   # Third dense layer with 16 units\n",
    "    model.add(Dense(8, activation='elu'))    # Fourth dense layer with 8 units\n",
    "    \n",
    "    # Output layer: \n",
    "    # - 3 output neurons, corresponding to the 3 models\n",
    "    # - Activation function: softmax\n",
    "    model.add(Dense(3, activation='softmax'))\n",
    "    \n",
    "    # Show the summary of the model structure (number of layers, shapes of outputs, etc.)\n",
    "    model.summary()\n",
    "\n",
    "    # Return the constructed model\n",
    "    return model"
   ]
  },
  {
   "cell_type": "markdown",
   "metadata": {},
   "source": [
    "### Compilation & Fitting\n",
    "Now we compile and fit the model."
   ]
  },
  {
   "cell_type": "code",
   "execution_count": null,
   "metadata": {
    "vscode": {
     "languageId": "plaintext"
    }
   },
   "outputs": [],
   "source": [
    "from keras import losses\n",
    "\n",
    "# Initialize the model using the build_model function that was previously defined\n",
    "estimator = build_model()\n",
    "\n",
    "# Compile the model:\n",
    "# - Loss function: categorical_crossentropy is used to measure the error between the predicted probability distribution and the true distribution for multi-class classification tasks.\n",
    "# - Optimizer: 'Adam' is used to minimize the loss function efficiently\n",
    "# - Metrics: Accuracy is used to track the model's performance during training\n",
    "estimator.compile(loss=keras.losses.categorical_crossentropy, optimizer = 'Adam', metrics=['accuracy'])\n",
    "\n",
    "# Early stopping callback to prevent overfitting:\n",
    "# - monitor: monitor the validation accuracy during training\n",
    "# - patience: stop training if the validation accuracy doesn't improve for 100 consecutive epochs\n",
    "# - mode: 'max' indicates that training will stop when the validation accuracy reaches its maximum\n",
    "# - restore_best_weights: restore the weights from the best epoch (the one with the highest validation accuracy)\n",
    "early_stop = keras.callbacks.EarlyStopping(monitor='val_accuracy', patience=100, mode='max', restore_best_weights=True)\n",
    "\n",
    "# Custom callback to display training progress:\n",
    "# - Print a dot for every epoch (or newline every 100 epochs) to indicate progress in training\n",
    "class PrintD(keras.callbacks.Callback):\n",
    "    def on_epoch_end(self, epoch, logs):\n",
    "        if epoch % 100 == 0:  # Print a newline every 100 epochs\n",
    "            print('')\n",
    "        print('.', end='')  # Print a dot to indicate progress during each epoch\n",
    "\n",
    "# Set the maximum number of epochs (iterations over the entire dataset)\n",
    "EPOCHS = 1000\n",
    "\n",
    "# Train the model using the `fit` method:\n",
    "# - encoding_pad: The padded training data (inputs)\n",
    "# - Y: The target values (outputs)\n",
    "# - verbose: set to 1 to print progress during training\n",
    "# - epochs: The number of times to iterate over the entire dataset\n",
    "# - validation_split: the fraction of data to use for validation (used to monitor validation loss)\n",
    "# - batch_size: the number of samples per gradient update\n",
    "# - callbacks: list of callbacks to be used during training (early stopping and progress display)\n",
    "history = estimator.fit(encoding_pad, Y, verbose=1, epochs=EPOCHS, validation_data=(encoding_pad_valid, Y_valid), batch_size=1, callbacks=[early_stop, PrintD()])"
   ]
  },
  {
   "cell_type": "markdown",
   "metadata": {},
   "source": [
    "### Evaluate the trained model\n",
    "We evaluate our cassifier by using the test set, which was not seen by the network during training. We plot the results as a confusion matrix."
   ]
  },
  {
   "cell_type": "code",
   "execution_count": null,
   "metadata": {
    "vscode": {
     "languageId": "plaintext"
    }
   },
   "outputs": [],
   "source": [
    "# Evaluate on test set\n",
    "predicted_test = np.array(estimator.predict(encoding_pad_test))\n",
    "pred_cat = [i.argmax() for i in predicted_test]\n",
    "\n",
    "# Confusion matrix\n",
    "print(confusion_matrix(Y_test, pred_cat))"
   ]
  },
  {
   "cell_type": "markdown",
   "metadata": {},
   "source": [
    "## 5. Predicting empirical (real) data.\n",
    "Our trained network can now be used to predict the most likely epidemiological model on real datasets.\n",
    "We will use the the phylogenetic tree from [Rasmusen et al. (2017)](https://journals.plos.org/ploscompbiol/article?id=10.1371/journal.pcbi.1005448) with 200 HIV-1 sequences collected as part of the [Swiss Cohort Study (2010)](https://academic.oup.com/ije/article/39/5/1179/799735). \n",
    "\n",
    "<img src=\"img/HIV_tree.png\" width=\"500\" height=\"340\"> "
   ]
  },
  {
   "cell_type": "code",
   "execution_count": null,
   "metadata": {
    "vscode": {
     "languageId": "plaintext"
    }
   },
   "outputs": [],
   "source": [
    "# Load the data\n",
    "encoding_Zurich = pd.read_csv(path + '/Encoded_Trees/Encoded_Zurich.csv', sep=\"\\t\", header=0, index_col=0).values.reshape(-1,1000,18)\n",
    "\n",
    "### Preprocess according to the procedures done above.\n",
    "\n",
    "# Delete the rescaling factor (not used here)\n",
    "encoding_Zurich=np.delete(encoding_Zurich, -1, axis=1)\n",
    "\n",
    "# Format the encoding, separating leaves and nodes in two channels.\n",
    "def encode_pad_0s_rootage(enc):\n",
    "    # Create an empty list to hold padded training encodings\n",
    "    enc_pad = []\n",
    "    \n",
    "    # Iterate over each tree in the training dataset\n",
    "    for i in range(enc.shape[0]):\n",
    "        # Separate the leaves (where column 3 has value 1, which indicates leaves)\n",
    "        leaves = enc[i][enc[i,:,3] == 1]\n",
    "        # Sort leaves by their age (assumed to be in column 1)\n",
    "        leaves = leaves[np.argsort(leaves[:, 1])]\n",
    "        # Pad the leaves array with 0s until it has a maximum size of 500 leaves\n",
    "        leaves = np.pad(leaves, [(0, (500 - leaves.shape[0])), (0, 0)], mode='constant')\n",
    "\n",
    "        # Separate the nodes (where column 3 is greater than 1, indicating internal nodes)\n",
    "        nodes = enc[i][enc[i,:,3] > 1]\n",
    "        # Sort nodes by their age (assumed to be in column 1)\n",
    "        nodes = nodes[np.argsort(nodes[:, 1])]\n",
    "        # Copy the last node's value to balance the number of leaves and nodes\n",
    "        nodes = np.append(nodes, nodes[-1].reshape(1, -1), axis=0)\n",
    "        # Pad the nodes array with 0s to ensure a size of 500 nodes\n",
    "        nodes = np.pad(nodes, [(0, (500 - nodes.shape[0])), (0, 0)], mode='constant')\n",
    "        \n",
    "        # Stack the leaves and nodes arrays together along axis 2 (creating 2 channels)\n",
    "        enc_pad.append(np.stack((leaves, nodes), axis=2))\n",
    "    # Convert lists to numpy arrays and return the padded data\n",
    "    return np.array(enc_pad), np.array(enc_pad_test)\n",
    "\n",
    "#Change encoding to order by root age and pad with 0s\n",
    "encoding_pad_Zurich = encode_pad_0s_rootage(encoding_Zurich)\n",
    "\n",
    "# predict values for the empirical dataset\n",
    "predicted_emp = np.array(estimator.predict(encoding_pad_Zurich))\n",
    "\n",
    "# Print the results\n",
    "print(predicted_emp)"
   ]
  }
 ],
 "metadata": {
  "accelerator": "GPU",
  "colab": {
   "gpuType": "L4",
   "machine_shape": "hm",
   "provenance": []
  },
  "kernelspec": {
   "display_name": "Python 3 (ipykernel)",
   "language": "python",
   "name": "python3"
  },
  "language_info": {
   "codemirror_mode": {
    "name": "ipython",
    "version": 3
   },
   "file_extension": ".py",
   "mimetype": "text/x-python",
   "name": "python",
   "nbconvert_exporter": "python",
   "pygments_lexer": "ipython3",
   "version": "3.8.20"
  }
 },
 "nbformat": 4,
 "nbformat_minor": 4
}
