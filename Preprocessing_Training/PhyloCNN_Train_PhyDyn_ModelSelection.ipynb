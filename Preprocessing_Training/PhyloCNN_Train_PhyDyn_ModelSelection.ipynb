{
 "cells": [
  {
   "cell_type": "code",
   "execution_count": null,
   "metadata": {
    "executionInfo": {
     "elapsed": 490,
     "status": "ok",
     "timestamp": 1723050120958,
     "user": {
      "displayName": "Manolo Perez",
      "userId": "03028681885213161249"
     },
     "user_tz": -60
    },
    "id": "n9mLTEL6ESI2",
    "scrolled": true
   },
   "outputs": [],
   "source": [
    "#Load required libraries\n",
    "import pandas as pd\n",
    "\n",
    "import tensorflow as tf\n",
    "import keras\n",
    "import numpy as np\n",
    "\n",
    "from keras.models import Sequential, Model\n",
    "from keras.layers import Activation, Dense\n",
    "from keras.layers import Conv2D, GlobalAveragePooling2D, BatchNormalization\n",
    "from keras.layers import Dense, Dropout\n",
    "from keras.layers import Dense, Dropout, Activation, Flatten\n",
    "\n",
    "from sklearn.model_selection import train_test_split\n",
    "from sklearn.metrics import confusion_matrix"
   ]
  },
  {
   "cell_type": "code",
   "execution_count": null,
   "metadata": {
    "id": "JGNeT2VWESI3",
    "scrolled": true
   },
   "outputs": [],
   "source": [
    "# loading parameters\n",
    "param_train_BD = pd.read_csv('./parameters_BD.txt', sep='\\t')\n",
    "param_test_BD = pd.read_csv('./testset/parameters_BD.txt', sep='\\t')\n",
    "param_train_BDEI = pd.read_csv('./parameters_BDEI.txt', sep='\\t')\n",
    "param_test_BDEI = pd.read_csv('./testset/parameters_BDEI.txt', sep='\\t')\n",
    "param_train_BDSS = pd.read_csv('./parameters_BDSS.txt', sep='\\t')\n",
    "param_test_BDSS = pd.read_csv('./testset/parameters_BDSS.txt', sep='\\t')\n",
    "\n",
    "\n",
    "# loading tree encoding for the 3 phylodynamics models\n",
    "encoding_BD = pd.read_csv('./Encoded_trees_BD.csv', sep=\"\\t\", header=0, index_col=0).values.reshape(-1,1000,18)\n",
    "encoding_test_BD = pd.read_csv('./testset/Encoded_trees_BD.csv', sep=\"\\t\", header=0, index_col=0).values.reshape(-1,1000,18)\n",
    "encoding_BDEI = pd.read_csv('./Encoded_trees_BDEI.csv', sep=\"\\t\", header=0, index_col=0).values.reshape(-1,1000,18)\n",
    "encoding_test_BDEI = pd.read_csv('./testset/Encoded_trees_BDEI.csv', sep=\"\\t\", header=0, index_col=0).values.reshape(-1,1000,18)\n",
    "encoding_BDSS = pd.read_csv('./Encoded_trees_BDSS.csv', sep=\"\\t\", header=0, index_col=0).values.reshape(-1,1000,18)\n",
    "encoding_test_BDSS = pd.read_csv('./testset/Encoded_trees_BDSS.csv', sep=\"\\t\", header=0, index_col=0).values.reshape(-1,1000,18)"
   ]
  },
  {
   "cell_type": "code",
   "execution_count": null,
   "metadata": {
    "id": "LPylE-sMESI3",
    "scrolled": true
   },
   "outputs": [],
   "source": [
    "# remove irrelevant columns: rescaling factor\n",
    "encoding_BD=np.delete(encoding_BD, -1, axis=1)\n",
    "encoding_test_BD=np.delete(encoding_test_BD, -1, axis=1)\n",
    "encoding_BDEI=np.delete(encoding_BDEI, -1, axis=1)\n",
    "encoding_test_BDEI=np.delete(encoding_test_BDEI, -1, axis=1)\n",
    "encoding_BDSS=np.delete(encoding_BDSS, -1, axis=1)\n",
    "encoding_test_BDSS=np.delete(encoding_test_BDSS, -1, axis=1)\n",
    "\n",
    "#Add labels for each simulation (a different labl for each model)\n",
    "Y = [0 for i in range(len(encoding_BD))]\n",
    "Y.extend([1 for i in range(len(encoding_BDEI))])\n",
    "Y.extend([2 for i in range(len(encoding_BDSS))])\n",
    "Y = np.array(Y)\n",
    "\n",
    "Y_test = [0 for i in range(len(encoding_test_BD))]\n",
    "Y_test.extend([1 for i in range(len(encoding_test_BDEI))])\n",
    "Y_test.extend([2 for i in range(len(encoding_test_BDSS))])\n",
    "Y_test = np.array(Y_test)"
   ]
  },
  {
   "cell_type": "code",
   "execution_count": null,
   "metadata": {
    "colab": {
     "base_uri": "https://localhost:8080/"
    },
    "executionInfo": {
     "elapsed": 2054,
     "status": "ok",
     "timestamp": 1723046791160,
     "user": {
      "displayName": "Manolo Perez",
      "userId": "03028681885213161249"
     },
     "user_tz": -60
    },
    "id": "i0ZLihV7ESI4",
    "outputId": "a51ed2d7-b9f0-4326-9b6d-88ed7bb95830",
    "scrolled": true
   },
   "outputs": [],
   "source": [
    "#Now insert an additional column with sampling proba for all nodes\n",
    "\n",
    "samp_proba_list = np.array(param_train_BD['sampling_proba'])\n",
    "encoding_BD=np.concatenate((encoding_BD,np.repeat(samp_proba_list,999).reshape(-1,999,1)),axis=2)\n",
    "\n",
    "samp_proba_list_test = np.array(param_test_BD['sampling_proba'])\n",
    "encoding_test_BD=np.concatenate((encoding_test_BD,np.repeat(samp_proba_list_test,999).reshape(-1,999,1)),axis=2)"
   ]
  },
  {
   "cell_type": "code",
   "execution_count": null,
   "metadata": {
    "colab": {
     "base_uri": "https://localhost:8080/"
    },
    "executionInfo": {
     "elapsed": 2356,
     "status": "ok",
     "timestamp": 1723046793513,
     "user": {
      "displayName": "Manolo Perez",
      "userId": "03028681885213161249"
     },
     "user_tz": -60
    },
    "id": "htCE8-xoESI5",
    "outputId": "a73d4b89-bce9-4ff6-dc6f-19358c392933",
    "scrolled": true
   },
   "outputs": [],
   "source": [
    "#Now insert an additional column with sampling proba for all nodes\n",
    "\n",
    "samp_proba_list = np.array(param_train_BDEI['sampling_proba'])\n",
    "encoding_BDEI=np.concatenate((encoding_BDEI,np.repeat(samp_proba_list,999).reshape(-1,999,1)),axis=2)\n",
    "\n",
    "samp_proba_list_test = np.array(param_test_BDEI['sampling_proba'])\n",
    "encoding_test_BDEI=np.concatenate((encoding_test_BDEI,np.repeat(samp_proba_list_test,999).reshape(-1,999,1)),axis=2)"
   ]
  },
  {
   "cell_type": "code",
   "execution_count": null,
   "metadata": {
    "colab": {
     "base_uri": "https://localhost:8080/"
    },
    "executionInfo": {
     "elapsed": 1548,
     "status": "ok",
     "timestamp": 1723046795059,
     "user": {
      "displayName": "Manolo Perez",
      "userId": "03028681885213161249"
     },
     "user_tz": -60
    },
    "id": "Z1Aq8awPESI5",
    "outputId": "71f7ae89-8fa4-4016-b6d0-cc62cdea2844",
    "scrolled": true
   },
   "outputs": [],
   "source": [
    "#Now insert an additional column with sampling proba for all nodes\n",
    "\n",
    "samp_proba_list = np.array(param_train_BDSS['sampling_proba'])\n",
    "encoding_BDSS=np.concatenate((encoding_BDSS,np.repeat(samp_proba_list,999).reshape(-1,999,1)),axis=2)\n",
    "\n",
    "samp_proba_list_test = np.array(param_test_BDSS['sampling_proba'])\n",
    "encoding_test_BDSS=np.concatenate((encoding_test_BDSS,np.repeat(samp_proba_list_test,999).reshape(-1,999,1)),axis=2)"
   ]
  },
  {
   "cell_type": "code",
   "execution_count": null,
   "metadata": {
    "id": "jvwHHjVyHxau"
   },
   "outputs": [],
   "source": [
    "# This function takes in the tree encodings for both training and testing datasets\n",
    "# and processes them to have a uniform shape. It also pads the leaves and nodes \n",
    "# of the trees to ensure each tree has a fixed number of 500 leaves and nodes.\n",
    "\n",
    "def encode_pad_0s_rootage(enc, enc_test):\n",
    "    # Create an empty list to hold padded training encodings\n",
    "    enc_pad = []\n",
    "    \n",
    "    # Iterate over each tree in the training dataset\n",
    "    for i in range(enc.shape[0]):\n",
    "        # Separate the leaves (where column 3 has value 1, which indicates leaves)\n",
    "        leaves = enc[i][enc[i,:,3] == 1]\n",
    "        # Sort leaves by their age (assumed to be in column 1)\n",
    "        leaves = leaves[np.argsort(leaves[:, 1])]\n",
    "        # Pad the leaves array with 0s until it has a maximum size of 500 leaves\n",
    "        leaves = np.pad(leaves, [(0, (500 - leaves.shape[0])), (0, 0)], mode='constant')\n",
    "\n",
    "        # Separate the nodes (where column 3 is greater than 1, indicating internal nodes)\n",
    "        nodes = enc[i][enc[i,:,3] > 1]\n",
    "        # Sort nodes by their age (assumed to be in column 1)\n",
    "        nodes = nodes[np.argsort(nodes[:, 1])]\n",
    "        # Copy the last node's value to balance the number of leaves and nodes\n",
    "        nodes = np.append(nodes, nodes[-1].reshape(1, -1), axis=0)\n",
    "        # Pad the nodes array with 0s to ensure a size of 500 nodes\n",
    "        nodes = np.pad(nodes, [(0, (500 - nodes.shape[0])), (0, 0)], mode='constant')\n",
    "        \n",
    "        # Stack the leaves and nodes arrays together along axis 2 (creating 2 channels)\n",
    "        enc_pad.append(np.stack((leaves, nodes), axis=2))\n",
    "    \n",
    "    # Now process the test dataset (same procedure as above)\n",
    "    enc_pad_test = []\n",
    "    for i in range(enc_test.shape[0]):\n",
    "        # Extract and sort leaves\n",
    "        leaves = enc_test[i][enc_test[i,:,3] == 1]\n",
    "        leaves = leaves[np.argsort(leaves[:, 1])]\n",
    "        # Pad leaves to ensure size of 500\n",
    "        leaves = np.pad(leaves, [(0, (500 - leaves.shape[0])), (0, 0)], mode='constant')\n",
    "\n",
    "        # Extract and sort nodes\n",
    "        nodes = enc_test[i][enc_test[i,:,3] > 1]\n",
    "        nodes = nodes[np.argsort(nodes[:, 1])]\n",
    "        # Copy the last node's value to balance the number of leaves and nodes\n",
    "        nodes = np.append(nodes, nodes[-1].reshape(1, -1), axis=0)\n",
    "        # Pad nodes to ensure size of 500\n",
    "        nodes = np.pad(nodes, [(0, (500 - nodes.shape[0])), (0, 0)], mode='constant')\n",
    "        \n",
    "        # Stack the leaves and nodes arrays together along axis 2 (creating 2 channels)\n",
    "        enc_pad_test.append(np.stack((leaves, nodes), axis=2))\n",
    "    \n",
    "    # Convert lists to numpy arrays and return the padded training and test data\n",
    "    return np.array(enc_pad), np.array(enc_pad_test)\n",
    "\n",
    "\n",
    "#Change encoding to order by root age and pad with 0s\n",
    "encoding_pad_BD, encoding_pad_test_BD = encode_pad_0s_rootage(encoding_BD, encoding_test_BD)\n",
    "encoding_pad_BDEI, encoding_pad_test_BDEI = encode_pad_0s_rootage(encoding_BDEI, encoding_test_BDEI)\n",
    "encoding_pad_BDSS, encoding_pad_test_BDSS = encode_pad_0s_rootage(encoding_BDSS, encoding_test_BDSS)\n",
    "\n",
    "#Combine encodings from the 3 models\n",
    "encoding_pad = np.concatenate((encoding_pad_BD,encoding_pad_BDEI,encoding_pad_BDSS),axis=0)\n",
    "encoding_pad_test = np.concatenate((encoding_pad_test_BD,encoding_pad_test_BDEI,encoding_pad_test_BDSS),axis=0)\n",
    "\n",
    "#Delete intermediate variables\n",
    "del(encoding_BD,encoding_BDEI,encoding_BDSS,encoding_pad_BD,encoding_pad_BDEI,encoding_pad_BDSS)\n",
    "del(encoding_pad_test_BD,encoding_pad_test_BDEI,encoding_pad_test_BDSS)"
   ]
  },
  {
   "cell_type": "code",
   "execution_count": null,
   "metadata": {
    "id": "Gq5StQb2rb8o"
   },
   "outputs": [],
   "source": [
    "#Transform labels into one-hot encoding\n",
    "Y = np.eye(3)[Y]\n",
    "#Separate training and validation sets\n",
    "Y, Y_valid, encoding_pad, encoding_pad_valid = train_test_split(Y,encoding_pad,test_size=0.3, shuffle=True,stratify=Y)"
   ]
  },
  {
   "cell_type": "code",
   "execution_count": null,
   "metadata": {
    "id": "NRB4l3dRESI5"
   },
   "outputs": [],
   "source": [
    "# Creation of the Network Model: model definition\n",
    "def build_model():\n",
    "    # Initialize the Sequential model\n",
    "    model = Sequential()\n",
    "    \n",
    "    # First convolutional layer: \n",
    "    # - Filters: 32 \n",
    "    # - Kernel size: (1, 19), sliding across the second dimension of the input \n",
    "    # - Input shape: (500, 19, 2) where 500 is the number of tree leaves/nodes, 19 is the feature size, and 2 is the number of channels (leaves and nodes)\n",
    "    # - Activation function: ELU (Exponential Linear Unit)\n",
    "    # - Groups: 2 to apply separate convolutions for the two channels (leaves and nodes)\n",
    "    model.add(Conv2D(filters=32, use_bias=False, kernel_size=(1, 19), input_shape=(500, 19, 2), activation='elu', groups=2))\n",
    "    \n",
    "    # Apply batch normalization to stabilize and speed up the training process\n",
    "    model.add(BatchNormalization())\n",
    "    \n",
    "    # Second convolutional layer: \n",
    "    # - Filters: 32\n",
    "    # - Kernel size: (1, 1) to process each feature independently\n",
    "    # - Activation function: ELU\n",
    "    model.add(Conv2D(filters=32, use_bias=False, kernel_size=(1, 1), activation='elu'))\n",
    "    \n",
    "    # Apply batch normalization again\n",
    "    model.add(BatchNormalization())\n",
    "    \n",
    "    # Third convolutional layer: \n",
    "    # - Filters: 32\n",
    "    # - Kernel size: (1, 1) for further feature processing\n",
    "    # - Activation function: ELU\n",
    "    model.add(Conv2D(filters=32, use_bias=False, kernel_size=(1, 1), activation='elu'))\n",
    "    \n",
    "    # Apply batch normalization for the final time before flattening\n",
    "    model.add(BatchNormalization())\n",
    "    \n",
    "    # Flatten the 2D feature maps from the convolutional layers into a 1D vector, \n",
    "    # which will be passed to the fully connected (dense) layers\n",
    "    model.add(GlobalAveragePooling2D())\n",
    "    \n",
    "    # Fully connected (FFNN) part:\n",
    "    # Dense layers with decreasing number of units, all using ELU activation:\n",
    "    model.add(Dense(64, activation='elu'))   # First dense layer with 64 units\n",
    "    model.add(Dense(32, activation='elu'))   # Second dense layer with 32 units\n",
    "    model.add(Dense(16, activation='elu'))   # Third dense layer with 16 units\n",
    "    model.add(Dense(8, activation='elu'))    # Fourth dense layer with 8 units\n",
    "    \n",
    "    # Output layer: \n",
    "    # - 3 output neurons, corresponding to the 3 models\n",
    "    # - Activation function: softmax\n",
    "    model.add(Dense(3, activation='softmax'))\n",
    "    \n",
    "    # Show the summary of the model structure (number of layers, shapes of outputs, etc.)\n",
    "    model.summary()\n",
    "\n",
    "    # Return the constructed model\n",
    "    return model\n"
   ]
  },
  {
   "cell_type": "code",
   "execution_count": null,
   "metadata": {
    "colab": {
     "background_save": true,
     "base_uri": "https://localhost:8080/"
    },
    "id": "S_ecul5uESI5",
    "outputId": "af6fa09f-222e-4cb0-888d-8a2efb70b558",
    "scrolled": true
   },
   "outputs": [],
   "source": [
    "from keras import losses\n",
    "\n",
    "# Initialize the model using the build_model function that was previously defined\n",
    "estimator = build_model()\n",
    "\n",
    "# Compile the model:\n",
    "# - Loss function: categorical_crossentropy is used to measure the error between the predicted probability distribution and the true distribution for multi-class classification tasks.\n",
    "# - Optimizer: 'Adam' is used to minimize the loss function efficiently\n",
    "# - Metrics: Accuracy is used to track the model's performance during training\n",
    "estimator.compile(loss=keras.losses.categorical_crossentropy, optimizer = 'Adam', metrics=['accuracy'])\n",
    "\n",
    "# Early stopping callback to prevent overfitting:\n",
    "# - monitor: monitor the validation accuracy during training\n",
    "# - patience: stop training if the validation accuracy doesn't improve for 100 consecutive epochs\n",
    "# - mode: 'max' indicates that training will stop when the validation accuracy reaches its maximum\n",
    "# - restore_best_weights: restore the weights from the best epoch (the one with the highest validation accuracy)\n",
    "early_stop = keras.callbacks.EarlyStopping(monitor='val_accuracy', patience=100, mode='max', restore_best_weights=True)\n",
    "\n",
    "# Custom callback to display training progress:\n",
    "# - Print a dot for every epoch (or newline every 100 epochs) to indicate progress in training\n",
    "class PrintD(keras.callbacks.Callback):\n",
    "    def on_epoch_end(self, epoch, logs):\n",
    "        if epoch % 100 == 0:  # Print a newline every 100 epochs\n",
    "            print('')\n",
    "        print('.', end='')  # Print a dot to indicate progress during each epoch\n",
    "\n",
    "# Set the maximum number of epochs (iterations over the entire dataset)\n",
    "EPOCHS = 1000\n",
    "\n",
    "# Train the model using the `fit` method:\n",
    "# - encoding_pad: The padded training data (inputs)\n",
    "# - Y: The target values (outputs)\n",
    "# - verbose: set to 1 to print progress during training\n",
    "# - epochs: The number of times to iterate over the entire dataset\n",
    "# - validation_split: the fraction of data to use for validation (used to monitor validation loss)\n",
    "# - batch_size: the number of samples per gradient update\n",
    "# - callbacks: list of callbacks to be used during training (early stopping and progress display)\n",
    "history = estimator.fit(encoding_pad, Y, verbose=1, epochs=EPOCHS, validation_data=(encoding_pad_valid, Y_valid), batch_size=1, callbacks=[early_stop, PrintD()])\n",
    "\n",
    "# Save the model architecture to a JSON file:\n",
    "# - The model structure (architecture) is saved as a JSON string\n",
    "from keras.models import model_from_json\n",
    "model = estimator.to_json()\n",
    "with open('./Trained_Models/Trained_2Generation_PhyDyn.json', 'w') as json_file:\n",
    "    json_file.write(model)\n",
    "\n",
    "# Save the model weights to an H5 file:\n",
    "# - The weights (learned parameters) of the trained model are saved to a file\n",
    "estimator.save_weights('./Trained_Models/Trained_2Generation_PhyDyn.h5')\n",
    "\n",
    "# Print a confirmation message when the model and weights are saved\n",
    "print('model saved!')"
   ]
  },
  {
   "cell_type": "code",
   "execution_count": null,
   "metadata": {
    "colab": {
     "base_uri": "https://localhost:8080/"
    },
    "executionInfo": {
     "elapsed": 9060,
     "status": "ok",
     "timestamp": 1723047898717,
     "user": {
      "displayName": "Manolo Perez",
      "userId": "03028681885213161249"
     },
     "user_tz": -60
    },
    "id": "sn-3Y7aXESI5",
    "outputId": "2bb0be59-1145-4546-d3b2-5cbd15118ed4"
   },
   "outputs": [],
   "source": [
    "#load the model\n",
    "from keras.models import model_from_json\n",
    "json_file = open('./Trained_Models/Trained_2Generation_PhyDyn.json', 'r')\n",
    "model = json_file.read()\n",
    "json_file.close()\n",
    "estimator = model_from_json(model)\n",
    "#load weights\n",
    "estimator.load_weights('./Trained_Models/Trained_2Generation_PhyDyn.h5')\n",
    "print('model loaded!')\n",
    "\n",
    "# predict values for the test set\n",
    "predicted_test = np.array(estimator.predict(encoding_pad_test))\n",
    "\n",
    "pred_cat = [i.argmax() for i in predicted_test]\n",
    "\n",
    "# Print the confusion matrix\n",
    "print (confusion_matrix(Y_test, pred_cat))"
   ]
  },
  {
   "cell_type": "code",
   "execution_count": null,
   "metadata": {
    "id": "I88PmnCoESI6"
   },
   "outputs": [],
   "source": [
    "#Now I will remove the 2nd generation context to compare the networks\n",
    "encoding_pad = encoding_pad[:,:,[0,1,2,3,4,5,6,7,8,18],:]\n",
    "encoding_pad_valid = encoding_pad_valid[:,:,[0,1,2,3,4,5,6,7,8,18],:]\n",
    "encoding_pad_test = encoding_pad_test[:,:,[0,1,2,3,4,5,6,7,8,18],:]"
   ]
  },
  {
   "cell_type": "code",
   "execution_count": null,
   "metadata": {
    "id": "tFMExxZCESI6"
   },
   "outputs": [],
   "source": [
    "# Creation of the Network Model: model definition\n",
    "def build_model():\n",
    "    # Initialize the Sequential model\n",
    "    model = Sequential()\n",
    "    \n",
    "    # First convolutional layer: \n",
    "    # - Filters: 32 \n",
    "    # - Kernel size: (1, 10), sliding across the second dimension of the input \n",
    "    # - Input shape: (500, 10, 2) where 500 is the number of tree leaves/nodes, 10 is the feature size, and 2 is the number of channels (leaves and nodes)\n",
    "    # - Activation function: ELU (Exponential Linear Unit)\n",
    "    # - Groups: 2 to apply separate convolutions for the two channels (leaves and nodes)\n",
    "    model.add(Conv2D(filters=32, use_bias=False, kernel_size=(1, 10), input_shape=(500, 10, 2), activation='elu', groups=2))\n",
    "    \n",
    "    # Apply batch normalization to stabilize and speed up the training process\n",
    "    model.add(BatchNormalization())\n",
    "    \n",
    "    # Second convolutional layer: \n",
    "    # - Filters: 32\n",
    "    # - Kernel size: (1, 1) to process each feature independently\n",
    "    # - Activation function: ELU\n",
    "    model.add(Conv2D(filters=32, use_bias=False, kernel_size=(1, 1), activation='elu'))\n",
    "    \n",
    "    # Apply batch normalization again\n",
    "    model.add(BatchNormalization())\n",
    "    \n",
    "    # Third convolutional layer: \n",
    "    # - Filters: 32\n",
    "    # - Kernel size: (1, 1) for further feature processing\n",
    "    # - Activation function: ELU\n",
    "    model.add(Conv2D(filters=32, use_bias=False, kernel_size=(1, 1), activation='elu'))\n",
    "    \n",
    "    # Apply batch normalization for the final time before flattening\n",
    "    model.add(BatchNormalization())\n",
    "    \n",
    "    # Flatten the 2D feature maps from the convolutional layers into a 1D vector, \n",
    "    # which will be passed to the fully connected (dense) layers\n",
    "    model.add(GlobalAveragePooling2D())\n",
    "    \n",
    "    # Fully connected (FFNN) part:\n",
    "    # Dense layers with decreasing number of units, all using ELU activation:\n",
    "    model.add(Dense(64, activation='elu'))   # First dense layer with 64 units\n",
    "    model.add(Dense(32, activation='elu'))   # Second dense layer with 32 units\n",
    "    model.add(Dense(16, activation='elu'))   # Third dense layer with 16 units\n",
    "    model.add(Dense(8, activation='elu'))    # Fourth dense layer with 8 units\n",
    "    \n",
    "    # Output layer: \n",
    "    # - 3 output neurons, corresponding to the 3 models\n",
    "    # - Activation function: softmax\n",
    "    model.add(Dense(3, activation='softmax'))\n",
    "    \n",
    "    # Show the summary of the model structure (number of layers, shapes of outputs, etc.)\n",
    "    model.summary()\n",
    "\n",
    "    # Return the constructed model\n",
    "    return model\n"
   ]
  },
  {
   "cell_type": "code",
   "execution_count": null,
   "metadata": {
    "colab": {
     "base_uri": "https://localhost:8080/",
     "height": 1000
    },
    "executionInfo": {
     "elapsed": 865152,
     "status": "ok",
     "timestamp": 1723048806560,
     "user": {
      "displayName": "Manolo Perez",
      "userId": "03028681885213161249"
     },
     "user_tz": -60
    },
    "id": "eTjAH660ESI7",
    "outputId": "6bd4f545-e992-4b9a-a748-2a80701205c9",
    "scrolled": true
   },
   "outputs": [],
   "source": [
    "from keras import losses\n",
    "\n",
    "# Initialize the model using the build_model function that was previously defined\n",
    "estimator = build_model()\n",
    "\n",
    "# Compile the model:\n",
    "# - Loss function: categorical_crossentropy is used to measure the error between the predicted probability distribution and the true distribution for multi-class classification tasks.\n",
    "# - Optimizer: 'Adam' is used to minimize the loss function efficiently\n",
    "# - Metrics: Accuracy is used to track the model's performance during training\n",
    "estimator.compile(loss=keras.losses.categorical_crossentropy, optimizer = 'Adam', metrics=['accuracy'])\n",
    "\n",
    "# Early stopping callback to prevent overfitting:\n",
    "# - monitor: monitor the validation accuracy during training\n",
    "# - patience: stop training if the validation accuracy doesn't improve for 100 consecutive epochs\n",
    "# - mode: 'max' indicates that training will stop when the validation accuracy reaches its maximum\n",
    "# - restore_best_weights: restore the weights from the best epoch (the one with the highest validation accuracy)\n",
    "early_stop = keras.callbacks.EarlyStopping(monitor='val_accuracy', patience=100, mode='max', restore_best_weights=True)\n",
    "\n",
    "# Custom callback to display training progress:\n",
    "# - Print a dot for every epoch (or newline every 100 epochs) to indicate progress in training\n",
    "class PrintD(keras.callbacks.Callback):\n",
    "    def on_epoch_end(self, epoch, logs):\n",
    "        if epoch % 100 == 0:  # Print a newline every 100 epochs\n",
    "            print('')\n",
    "        print('.', end='')  # Print a dot to indicate progress during each epoch\n",
    "\n",
    "# Set the maximum number of epochs (iterations over the entire dataset)\n",
    "EPOCHS = 1000\n",
    "\n",
    "# Train the model using the `fit` method:\n",
    "# - encoding_pad: The padded training data (inputs)\n",
    "# - Y: The target values (outputs)\n",
    "# - verbose: set to 1 to print progress during training\n",
    "# - epochs: The number of times to iterate over the entire dataset\n",
    "# - validation_split: the fraction of data to use for validation (used to monitor validation loss)\n",
    "# - batch_size: the number of samples per gradient update\n",
    "# - callbacks: list of callbacks to be used during training (early stopping and progress display)\n",
    "history = estimator.fit(encoding_pad, Y, verbose=1, epochs=EPOCHS, validation_data=(encoding_pad_valid, Y_valid), batch_size=1, callbacks=[early_stop, PrintD()])\n",
    "\n",
    "# Save the model architecture to a JSON file:\n",
    "# - The model structure (architecture) is saved as a JSON string\n",
    "from keras.models import model_from_json\n",
    "model = estimator.to_json()\n",
    "with open('./Trained_Models/Trained_1Generation_PhyDyn.json', 'w') as json_file:\n",
    "    json_file.write(model)\n",
    "\n",
    "# Save the model weights to an H5 file:\n",
    "# - The weights (learned parameters) of the trained model are saved to a file\n",
    "estimator.save_weights('./Trained_Models/Trained_1Generation_PhyDyn.h5')\n",
    "\n",
    "# Print a confirmation message when the model and weights are saved\n",
    "print('model saved!')"
   ]
  },
  {
   "cell_type": "code",
   "execution_count": null,
   "metadata": {
    "colab": {
     "base_uri": "https://localhost:8080/"
    },
    "executionInfo": {
     "elapsed": 5294,
     "status": "ok",
     "timestamp": 1723048811830,
     "user": {
      "displayName": "Manolo Perez",
      "userId": "03028681885213161249"
     },
     "user_tz": -60
    },
    "id": "ohowbn8uESI7",
    "outputId": "60a7b36f-db76-43d7-85ab-b382a18051fc",
    "scrolled": true
   },
   "outputs": [],
   "source": [
    "#load the model\n",
    "from keras.models import model_from_json\n",
    "json_file = open('./Trained_Models/Trained_1Generation_PhyDyn.json', 'r')\n",
    "model = json_file.read()\n",
    "json_file.close()\n",
    "estimator = model_from_json(model)\n",
    "#load weights\n",
    "estimator.load_weights('./Trained_Models/Trained_1Generation_PhyDyn.h5')\n",
    "print('model loaded!')\n",
    "\n",
    "# predict values for the test set\n",
    "predicted_test = np.array(estimator.predict(encoding_pad_test))\n",
    "\n",
    "pred_cat = [i.argmax() for i in predicted_test]\n",
    "\n",
    "# Print the confusion matrix\n",
    "print (confusion_matrix(Y_test, pred_cat))"
   ]
  },
  {
   "cell_type": "code",
   "execution_count": null,
   "metadata": {
    "id": "HJDZVZv7ESI7"
   },
   "outputs": [],
   "source": [
    "#Now I will remove all context to compare the networks\n",
    "encoding_pad = encoding_pad[:,:,[0,1,2,3,9],:]\n",
    "encoding_pad_valid = encoding_pad_valid[:,:,[0,1,2,3,9],:]\n",
    "encoding_pad_test = encoding_pad_test[:,:,[0,1,2,3,9],:]"
   ]
  },
  {
   "cell_type": "code",
   "execution_count": null,
   "metadata": {
    "id": "5J0nUvnaESI7"
   },
   "outputs": [],
   "source": [
    "# Creation of the Network Model: model definition\n",
    "def build_model():\n",
    "    # Initialize the Sequential model\n",
    "    model = Sequential()\n",
    "    \n",
    "    # First convolutional layer: \n",
    "    # - Filters: 32 \n",
    "    # - Kernel size: (1, 5), sliding across the second dimension of the input \n",
    "    # - Input shape: (500, 5, 2) where 500 is the number of tree leaves/nodes, 5 is the feature size, and 2 is the number of channels (leaves and nodes)\n",
    "    # - Activation function: ELU (Exponential Linear Unit)\n",
    "    # - Groups: 2 to apply separate convolutions for the two channels (leaves and nodes)\n",
    "    model.add(Conv2D(filters=32, use_bias=False, kernel_size=(1, 5), input_shape=(500, 5, 2), activation='elu', groups=2))\n",
    "    \n",
    "    # Apply batch normalization to stabilize and speed up the training process\n",
    "    model.add(BatchNormalization())\n",
    "    \n",
    "    # Second convolutional layer: \n",
    "    # - Filters: 32\n",
    "    # - Kernel size: (1, 1) to process each feature independently\n",
    "    # - Activation function: ELU\n",
    "    model.add(Conv2D(filters=32, use_bias=False, kernel_size=(1, 1), activation='elu'))\n",
    "    \n",
    "    # Apply batch normalization again\n",
    "    model.add(BatchNormalization())\n",
    "    \n",
    "    # Third convolutional layer: \n",
    "    # - Filters: 32\n",
    "    # - Kernel size: (1, 1) for further feature processing\n",
    "    # - Activation function: ELU\n",
    "    model.add(Conv2D(filters=32, use_bias=False, kernel_size=(1, 1), activation='elu'))\n",
    "    \n",
    "    # Apply batch normalization for the final time before flattening\n",
    "    model.add(BatchNormalization())\n",
    "    \n",
    "    # Flatten the 2D feature maps from the convolutional layers into a 1D vector, \n",
    "    # which will be passed to the fully connected (dense) layers\n",
    "    model.add(GlobalAveragePooling2D())\n",
    "    \n",
    "    # Fully connected (FFNN) part:\n",
    "    # Dense layers with decreasing number of units, all using ELU activation:\n",
    "    model.add(Dense(64, activation='elu'))   # First dense layer with 64 units\n",
    "    model.add(Dense(32, activation='elu'))   # Second dense layer with 32 units\n",
    "    model.add(Dense(16, activation='elu'))   # Third dense layer with 16 units\n",
    "    model.add(Dense(8, activation='elu'))    # Fourth dense layer with 8 units\n",
    "    \n",
    "    # Output layer: \n",
    "    # - 3 output neurons, corresponding to the 3 models\n",
    "    # - Activation function: softmax\n",
    "    model.add(Dense(3, activation='softmax'))\n",
    "    \n",
    "    # Show the summary of the model structure (number of layers, shapes of outputs, etc.)\n",
    "    model.summary()\n",
    "\n",
    "    # Return the constructed model\n",
    "    return model\n"
   ]
  },
  {
   "cell_type": "code",
   "execution_count": null,
   "metadata": {
    "colab": {
     "base_uri": "https://localhost:8080/",
     "height": 1000
    },
    "executionInfo": {
     "elapsed": 692958,
     "status": "ok",
     "timestamp": 1723049832876,
     "user": {
      "displayName": "Manolo Perez",
      "userId": "03028681885213161249"
     },
     "user_tz": -60
    },
    "id": "FrD3CT9cESI7",
    "outputId": "eb6a7a2a-42f4-49cb-9d71-8dcbd89e0a15",
    "scrolled": true
   },
   "outputs": [],
   "source": [
    "from keras import losses\n",
    "\n",
    "# Initialize the model using the build_model function that was previously defined\n",
    "estimator = build_model()\n",
    "\n",
    "# Compile the model:\n",
    "# - Loss function: categorical_crossentropy is used to measure the error between the predicted probability distribution and the true distribution for multi-class classification tasks.\n",
    "# - Optimizer: 'Adam' is used to minimize the loss function efficiently\n",
    "# - Metrics: Accuracy is used to track the model's performance during training\n",
    "estimator.compile(loss=keras.losses.categorical_crossentropy, optimizer = 'Adam', metrics=['accuracy'])\n",
    "\n",
    "# Early stopping callback to prevent overfitting:\n",
    "# - monitor: monitor the validation accuracy during training\n",
    "# - patience: stop training if the validation accuracy doesn't improve for 100 consecutive epochs\n",
    "# - mode: 'max' indicates that training will stop when the validation accuracy reaches its maximum\n",
    "# - restore_best_weights: restore the weights from the best epoch (the one with the highest validation accuracy)\n",
    "early_stop = keras.callbacks.EarlyStopping(monitor='val_accuracy', patience=100, mode='max', restore_best_weights=True)\n",
    "\n",
    "# Custom callback to display training progress:\n",
    "# - Print a dot for every epoch (or newline every 100 epochs) to indicate progress in training\n",
    "class PrintD(keras.callbacks.Callback):\n",
    "    def on_epoch_end(self, epoch, logs):\n",
    "        if epoch % 100 == 0:  # Print a newline every 100 epochs\n",
    "            print('')\n",
    "        print('.', end='')  # Print a dot to indicate progress during each epoch\n",
    "\n",
    "# Set the maximum number of epochs (iterations over the entire dataset)\n",
    "EPOCHS = 1000\n",
    "\n",
    "# Train the model using the `fit` method:\n",
    "# - encoding_pad: The padded training data (inputs)\n",
    "# - Y: The target values (outputs)\n",
    "# - verbose: set to 1 to print progress during training\n",
    "# - epochs: The number of times to iterate over the entire dataset\n",
    "# - validation_split: the fraction of data to use for validation (used to monitor validation loss)\n",
    "# - batch_size: the number of samples per gradient update\n",
    "# - callbacks: list of callbacks to be used during training (early stopping and progress display)\n",
    "history = estimator.fit(encoding_pad, Y, verbose=1, epochs=EPOCHS, validation_data=(encoding_pad_valid, Y_valid), batch_size=1, callbacks=[early_stop, PrintD()])\n",
    "\n",
    "# Save the model architecture to a JSON file:\n",
    "# - The model structure (architecture) is saved as a JSON string\n",
    "from keras.models import model_from_json\n",
    "model = estimator.to_json()\n",
    "with open('./Trained_Models/Trained_NoContext_PhyDyn.json', 'w') as json_file:\n",
    "    json_file.write(model)\n",
    "\n",
    "# Save the model weights to an H5 file:\n",
    "# - The weights (learned parameters) of the trained model are saved to a file\n",
    "estimator.save_weights('./Trained_Models/Trained_NoContext_PhyDyn.h5')\n",
    "\n",
    "# Print a confirmation message when the model and weights are saved\n",
    "print('model saved!')"
   ]
  },
  {
   "cell_type": "code",
   "execution_count": null,
   "metadata": {
    "colab": {
     "base_uri": "https://localhost:8080/"
    },
    "executionInfo": {
     "elapsed": 5666,
     "status": "ok",
     "timestamp": 1723050201900,
     "user": {
      "displayName": "Manolo Perez",
      "userId": "03028681885213161249"
     },
     "user_tz": -60
    },
    "id": "b73tB0ZEESI7",
    "outputId": "f39d7d3c-7c6f-4211-86b7-608f67ade47e",
    "scrolled": true
   },
   "outputs": [],
   "source": [
    "#load the model\n",
    "from keras.models import model_from_json\n",
    "json_file = open('./Trained_Models/Trained_NoContext_PhyDyn.json', 'r')\n",
    "model = json_file.read()\n",
    "json_file.close()\n",
    "estimator = model_from_json(model)\n",
    "#load weights\n",
    "estimator.load_weights('./Trained_Models/Trained_NoContext_PhyDyn.h5')\n",
    "print('model loaded!')\n",
    "\n",
    "# predict values for the test set\n",
    "predicted_test = np.array(estimator.predict(encoding_pad_test))\n",
    "\n",
    "pred_cat = [i.argmax() for i in predicted_test]\n",
    "\n",
    "# Print the confusion matrix\n",
    "print (confusion_matrix(Y_test, pred_cat))"
   ]
  }
 ],
 "metadata": {
  "accelerator": "GPU",
  "colab": {
   "gpuType": "L4",
   "machine_shape": "hm",
   "provenance": []
  },
  "kernelspec": {
   "display_name": "Python 3 (ipykernel)",
   "language": "python",
   "name": "python3"
  },
  "language_info": {
   "codemirror_mode": {
    "name": "ipython",
    "version": 3
   },
   "file_extension": ".py",
   "mimetype": "text/x-python",
   "name": "python",
   "nbconvert_exporter": "python",
   "pygments_lexer": "ipython3",
   "version": "3.8.20"
  }
 },
 "nbformat": 4,
 "nbformat_minor": 4
}
